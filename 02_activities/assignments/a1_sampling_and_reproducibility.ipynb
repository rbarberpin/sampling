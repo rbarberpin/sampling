{
 "cells": [
  {
   "cell_type": "markdown",
   "id": "ed39f379",
   "metadata": {},
   "source": [
    "# Assignment 1: Sampling and Reproducibility\n",
    "\n",
    "The code at the end of this file explores contact tracing data about an outbreak of the flu, and demonstrates the dangers of incomplete and non-random samples. This assignment is modified from [Contact tracing can give a biased sample of COVID-19 cases](https://andrewwhitby.com/2020/11/24/contact-tracing-biased/) by Andrew Whitby.\n",
    "\n",
    "Examine the code below. Identify all stages at which sampling is occurring in the model. Describe in words the sampling procedure, referencing the functions used, sample size, sampling frame, any underlying distributions involved. \n"
   ]
  },
  {
   "cell_type": "markdown",
   "id": "4ea73db3",
   "metadata": {},
   "source": [
    "1. Initial data frame for population creation\n",
    "sample size = 1000\n",
    "sample frame = all attendees from the events\n",
    "\n",
    "2. Infection sampling\n",
    "sample size = 100 (10% of the 1000 attendees)\n",
    "sample frame = 10% of the 1000 attendees\n",
    "underlying distribution = uniform random? \n",
    "\n",
    "3. primary contact tracing sampling\n",
    "sample size = 100 (infected individuals)\n",
    "sample frame = each of the 100 individuals have a 20% chance of being traced "
   ]
  },
  {
   "cell_type": "markdown",
   "id": "3d9b2ccc",
   "metadata": {},
   "source": [
    "Modify the number of repetitions in the simulation to 10 and 100 (from the original 1000). Run the script multiple times and observe the outputted graphs. Comment on the reproducibility of the results."
   ]
  },
  {
   "cell_type": "markdown",
   "id": "4cf5d993",
   "metadata": {},
   "source": [
    "10 simultaitons: graphs only shows infections traced to weddings (red) which dominated over the blue (infections from weddings)\n",
    "\n",
    "100 simulations: the distribution stabilizes between infections from weddings and traced to weddings\n",
    "\n",
    "This is how I changed the code to modify the number of repetitions in the simulation to 10 and 100 \n",
    "\n",
    "results = [simulate_event(m) for m in range(10)]  - For 10 reps\n",
    "\n",
    "results = [simulate_event(m) for m in range(100)] - For 100 reps"
   ]
  },
  {
   "cell_type": "markdown",
   "id": "32603ce7",
   "metadata": {},
   "source": [
    "Alter the code so that it is reproducible. Describe the changes you made to the code and how they affected the reproducibility of the script. The output needs to produce the same output when run multiple times."
   ]
  },
  {
   "cell_type": "markdown",
   "id": "77613cc3",
   "metadata": {},
   "source": [
    "10 repetitions: graphs show high variability; small sample size leads to unreliable and non-representative results\n",
    "\n",
    "100 repetitions: Somewhat more stable, but still sensitive to randomness — results can vary noticeably across runs.\n",
    "\n",
    "1000 repetitions (original): Results are much smoother and show a clearer bias from tracing.\n",
    "\n",
    "The smaller the number of repetitions (10 repetitions), the less reproducible and more variable the histograms become and the larger the number of repetitions (1000 repeitions) the smoother and more consistent of results."
   ]
  },
  {
   "cell_type": "markdown",
   "id": "30b4a74f",
   "metadata": {},
   "source": [
    "## Code"
   ]
  },
  {
   "cell_type": "code",
   "execution_count": 3,
   "id": "ab8587a0",
   "metadata": {},
   "outputs": [
    {
     "data": {
      "image/png": "[encoded data removed]",
      "text/plain": [
       "<Figure size 1000x600 with 1 Axes>"
      ]
     },
     "metadata": {},
     "output_type": "display_data"
    }
   ],
   "source": [
    "# Import necessary libraries\n",
    "import pandas as pd\n",
    "import numpy as np\n",
    "import matplotlib.pyplot as plt\n",
    "import seaborn as sns\n",
    "#reproducibility code\n",
    "np.random.seed(42)\n",
    "\n",
    "# Note: Suppressing FutureWarnings to maintain a clean output. This is specifically to ignore warnings about\n",
    "# deprecated features in the libraries we're using (e.g., 'use_inf_as_na' option in Pandas, used by Seaborn),\n",
    "# which we currently have no direct control over. This action is taken to ensure that our output remains\n",
    "# focused on relevant information, acknowledging that we rely on external library updates to fully resolve\n",
    "# these deprecations. Always consider reviewing and removing this suppression after significant library updates.\n",
    "import warnings\n",
    "warnings.simplefilter(action='ignore', category=FutureWarning)\n",
    "\n",
    "# Constants representing the parameters of the model\n",
    "ATTACK_RATE = 0.10\n",
    "TRACE_SUCCESS = 0.20\n",
    "SECONDARY_TRACE_THRESHOLD = 2\n",
    "\n",
    "def simulate_event(m):\n",
    "  \"\"\"\n",
    "  Simulates the infection and tracing process for a series of events.\n",
    "  \n",
    "  This function creates a DataFrame representing individuals attending weddings and brunches,\n",
    "  infects a subset of them based on the ATTACK_RATE, performs primary and secondary contact tracing,\n",
    "  and calculates the proportions of infections and traced cases that are attributed to weddings.\n",
    "  \n",
    "  Parameters:\n",
    "  - m: Dummy parameter for iteration purposes.\n",
    "  \n",
    "  Returns:\n",
    "  - A tuple containing the proportion of infections and the proportion of traced cases\n",
    "    that are attributed to weddings.\n",
    "  \"\"\"\n",
    "  # Create DataFrame for people at events with initial infection and traced status\n",
    "  events = ['wedding'] * 200 + ['brunch'] * 800\n",
    "  ppl = pd.DataFrame({\n",
    "      'event': events,\n",
    "      'infected': False,\n",
    "      'traced': np.nan  # Initially setting traced status as NaN\n",
    "  })\n",
    "\n",
    "  # Explicitly set 'traced' column to nullable boolean type\n",
    "  ppl['traced'] = ppl['traced'].astype(pd.BooleanDtype())\n",
    "\n",
    "  # Infect a random subset of people\n",
    "  infected_indices = np.random.choice(ppl.index, size=int(len(ppl) * ATTACK_RATE), replace=False)\n",
    "  ppl.loc[infected_indices, 'infected'] = True\n",
    "\n",
    "  # Primary contact tracing: randomly decide which infected people get traced\n",
    "  ppl.loc[ppl['infected'], 'traced'] = np.random.rand(sum(ppl['infected'])) < TRACE_SUCCESS\n",
    "\n",
    "  # Secondary contact tracing based on event attendance\n",
    "  event_trace_counts = ppl[ppl['traced'] == True]['event'].value_counts()\n",
    "  events_traced = event_trace_counts[event_trace_counts >= SECONDARY_TRACE_THRESHOLD].index\n",
    "  ppl.loc[ppl['event'].isin(events_traced) & ppl['infected'], 'traced'] = True\n",
    "\n",
    "  # Calculate proportions of infections and traces attributed to each event type\n",
    "  ppl['event_type'] = ppl['event'].str[0]  # 'w' for wedding, 'b' for brunch\n",
    "  wedding_infections = sum(ppl['infected'] & (ppl['event_type'] == 'w'))\n",
    "  brunch_infections = sum(ppl['infected'] & (ppl['event_type'] == 'b'))\n",
    "  p_wedding_infections = wedding_infections / (wedding_infections + brunch_infections)\n",
    "\n",
    "  wedding_traces = sum(ppl['infected'] & ppl['traced'] & (ppl['event_type'] == 'w'))\n",
    "  brunch_traces = sum(ppl['infected'] & ppl['traced'] & (ppl['event_type'] == 'b'))\n",
    "  p_wedding_traces = wedding_traces / (wedding_traces + brunch_traces)\n",
    "\n",
    "  return p_wedding_infections, p_wedding_traces\n",
    "\n",
    "# Run the simulation 1000 times\n",
    "results = [simulate_event(m) for m in range(100)]\n",
    "props_df = pd.DataFrame(results, columns=[\"Infections\", \"Traces\"])\n",
    "\n",
    "# Plotting the results\n",
    "plt.figure(figsize=(10, 6))\n",
    "sns.histplot(props_df['Infections'], color=\"blue\", alpha=0.75, binwidth=0.05, kde=False, label='Infections from Weddings')\n",
    "sns.histplot(props_df['Traces'], color=\"red\", alpha=0.75, binwidth=0.05, kde=False, label='Traced to Weddings')\n",
    "plt.xlabel(\"Proportion of cases\")\n",
    "plt.ylabel(\"Frequency\")\n",
    "plt.title(\"Impact of Contact Tracing on Perceived Flu Infection Sources\")\n",
    "plt.legend()\n",
    "plt.tight_layout()\n",
    "plt.show()"
   ]
  },
  {
   "cell_type": "markdown",
   "id": "f418c720",
   "metadata": {},
   "source": [
    "## Criteria"
   ]
  },
  {
   "cell_type": "markdown",
   "id": "c0b3f93f",
   "metadata": {},
   "source": [
    "|Criteria|Complete|Incomplete|\n",
    "|--------|----|----|\n",
    "|Alteration of the code|The code changes made, made it reproducible.|The code is still not reproducible.|\n",
    "|Description of changes|The author answered questions and explained the reasonings for the changes made well.|The author did not answer questions or explain the reasonings for the changes made well.|"
   ]
  },
  {
   "cell_type": "markdown",
   "id": "83cec589",
   "metadata": {},
   "source": [
    "## Submission Information\n",
    "🚨 **Please review our [Assignment Submission Guide](https://github.com/UofT-DSI/onboarding/blob/main/onboarding_documents/submissions.md)** 🚨 for detailed instructions on how to format, branch, and submit your work. Following these guidelines is crucial for your submissions to be evaluated correctly.\n",
    "\n",
    "### Submission Parameters:\n",
    "* Submission Due Date: `23:59 - 22/06/2025`\n",
    "* The branch name for your repo should be: `assignment-1`\n",
    "* What to submit for this assignment:\n",
    "    * This markdown file (`a1_sampling_and_reproducibility.ipynb`) should be populated with the code changed.\n",
    "* What the pull request link should look like for this assignment: `https://github.com/<your_github_username>/sampling/pull/<pr_id>`\n",
    "    * Open a private window in your browser. Copy and paste the link to your pull request into the address bar. Make sure you can see your pull request properly. This helps the technical facilitator and learning support staff review your submission easily.\n",
    "\n",
    "#### Checklist:\n",
    "- [ ] Create a branch called `assignment-1`.\n",
    "- [ ] Ensure that the repository is public.\n",
    "- [ ] Review [the PR description guidelines](https://github.com/UofT-DSI/onboarding/blob/main/onboarding_documents/submissions.md#guidelines-for-pull-request-descriptions) and adhere to them.\n",
    "- [ ] Verify that the link is accessible in a private browser window.\n",
    "\n",
    "If you encounter any difficulties or have questions, please don't hesitate to reach out to our team via the help channel in Slack. Our Technical Facilitators and Learning Support staff are here to help you navigate any challenges.\n"
   ]
  }
 ],
 "metadata": {
  "kernelspec": {
   "display_name": "dsi_participant_2",
   "language": "python",
   "name": "python3"
  },
  "language_info": {
   "codemirror_mode": {
    "name": "ipython",
    "version": 3
   },
   "file_extension": ".py",
   "mimetype": "text/x-python",
   "name": "python",
   "nbconvert_exporter": "python",
   "pygments_lexer": "ipython3",
   "version": "3.9.23"
  }
 },
 "nbformat": 4,
 "nbformat_minor": 5
}
